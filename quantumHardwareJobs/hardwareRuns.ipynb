{
 "cells": [
  {
   "cell_type": "code",
   "execution_count": 1,
   "id": "f351b6ba-72a0-49ba-80bc-e94fa13fc08e",
   "metadata": {},
   "outputs": [],
   "source": [
    "import braket\n",
    "import boto3\n",
    "import numpy as np\n",
    "import matplotlib.pyplot as plt\n",
    "import json\n",
    "import os.path\n",
    "\n",
    "from braket.aws import AwsQuantumTask\n",
    "from braket.tracking import Tracker\n",
    "tracker = Tracker().start()"
   ]
  },
  {
   "cell_type": "code",
   "execution_count": 2,
   "id": "b51cd4a8-aa5e-4427-8ca0-71f814a35154",
   "metadata": {},
   "outputs": [],
   "source": [
    "megahertz = 1e+6\n",
    "micron = 1e-6\n",
    "microsecond = 1e-6\n",
    "NUM_ATOMS = 4"
   ]
  },
  {
   "cell_type": "code",
   "execution_count": 3,
   "id": "8c7bcff7-1cbe-4bcf-a596-872a23aefd0c",
   "metadata": {},
   "outputs": [],
   "source": [
    "from ResQ_utils import pulseTimeSeries, get_counts, simulatedResidualInference, residualInferenceProgram\n",
    "\n",
    "def tally_votes(sim_counts, numShots=10000):\n",
    "\n",
    "    counter_0 = np.zeros(NUM_ATOMS)\n",
    "    counter_1 = np.zeros(NUM_ATOMS)\n",
    "\n",
    "    for k in counts.keys():\n",
    "    \n",
    "        for i, state in enumerate(k):\n",
    "            if state == \"d\":\n",
    "                counter_0[i] += counts[k]\n",
    "            elif state == \"u\":\n",
    "                counter_1[i] += counts[k]\n",
    "\n",
    "    return np.sum(counter_1 / (numShots)) / NUM_ATOMS\n",
    "\n",
    "def tally_votes_hardware(counts, numShots=1000):\n",
    "    counter_0 = np.zeros(NUM_ATOMS)\n",
    "    counter_1 = np.zeros(NUM_ATOMS)\n",
    "\n",
    "    for k in counts.keys():\n",
    "    \n",
    "        for i, state in enumerate(k):\n",
    "            if state == \"g\":\n",
    "                counter_0[i] += counts[k]\n",
    "            elif state == \"r\":\n",
    "                counter_1[i] += counts[k]\n",
    "\n",
    "    return np.sum(counter_1 / (numShots)) / NUM_ATOMS"
   ]
  },
  {
   "cell_type": "code",
   "execution_count": 4,
   "id": "f73a1681-4da1-4576-8bee-3d1d80f865e1",
   "metadata": {},
   "outputs": [],
   "source": [
    "classification_task = \"trouserboot\""
   ]
  },
  {
   "cell_type": "code",
   "execution_count": 5,
   "id": "7daa8687-bbdf-4611-8854-b7dd3df7d1dd",
   "metadata": {},
   "outputs": [],
   "source": [
    "with open(f'input_data/{classification_task}datapoints.json') as f:\n",
    "    data = np.array(json.load(f))\n",
    "\n",
    "with open(f'input_data/{classification_task}datalabels.json') as f:\n",
    "    test_labels = np.array(json.load(f))\n",
    "\n",
    "with open(f'parameters/{classification_task}params.json') as f:\n",
    "    d = json.load(f)\n",
    "\n",
    "    opt_params = d[\"params\"]\n",
    "    latticeType = d[\"latticeType\"]\n",
    "    latticeConstant = d[\"latticeConstant\"]\n",
    "\n",
    "with open(f'run_details/{classification_task}run_details.json') as f:\n",
    "    d = json.load(f)\n",
    "\n",
    "    sampled_logits = d[\"simulated_logits\"]\n",
    "    indices =  d[\"data_index\"]\n",
    "    data_points = d[\"data_points\"] \n",
    "    test_labels = d[\"test_labels\"]"
   ]
  },
  {
   "cell_type": "code",
   "execution_count": 6,
   "id": "3a925ae8-f06c-4976-86b8-ecf20e8d9049",
   "metadata": {},
   "outputs": [
    {
     "name": "stdout",
     "output_type": "stream",
     "text": [
      "{}\n"
     ]
    }
   ],
   "source": [
    "from braket.aws import AwsDevice\n",
    "from braket.devices import Devices, LocalSimulator\n",
    "\n",
    "device = AwsDevice(Devices.QuEra.Aquila)\n",
    "sim_device = LocalSimulator(\"braket_ahs\")\n",
    "\n",
    "print(tracker.quantum_tasks_statistics())\n"
   ]
  },
  {
   "cell_type": "code",
   "execution_count": 9,
   "id": "077e6ab7-62af-49cf-b55c-d08841ff3adc",
   "metadata": {},
   "outputs": [
    {
     "name": "stdout",
     "output_type": "stream",
     "text": [
      "0.221575\n",
      "0.23842499999999997\n",
      "0.323275\n",
      "0.47657499999999997\n",
      "0.60885\n",
      "0.74015\n",
      "0.846125\n",
      "0.8749\n"
     ]
    }
   ],
   "source": [
    "# double check once more\n",
    "for i in range(8):\n",
    "    d = data_points[i]\n",
    "    \n",
    "    program = residualInferenceProgram(d, opt_params, latticeType, latticeConstant)\n",
    "    discretized_ahs_program = program.discretize(device)\n",
    "\n",
    "    sim_result = sim_device.run(\n",
    "       program,\n",
    "       shots=10000,\n",
    "        steps = 10000\n",
    "    ).result() \n",
    "    counts = get_counts(sim_result)\n",
    "    sim_discrete_logit = tally_votes(counts)\n",
    "\n",
    "    print(sim_discrete_logit)\n",
    "    "
   ]
  },
  {
   "cell_type": "code",
   "execution_count": 10,
   "id": "63801bf8-4de5-4692-9284-391d51362178",
   "metadata": {},
   "outputs": [
    {
     "name": "stdout",
     "output_type": "stream",
     "text": [
      "0.22465\n",
      "0.2436\n",
      "0.32409999999999994\n",
      "0.470275\n",
      "0.6150249999999999\n",
      "0.73695\n",
      "0.8471249999999999\n",
      "0.8772249999999999\n"
     ]
    }
   ],
   "source": [
    "for l in sampled_logits: print(l)"
   ]
  },
  {
   "cell_type": "code",
   "execution_count": null,
   "id": "89dd0e9d-347a-4430-ab50-ffcce8ecb7d2",
   "metadata": {},
   "outputs": [],
   "source": [
    "n_shots = 1000\n",
    "task_arns = []\n",
    "\n",
    "for i in range(8):\n",
    "    print(i)\n",
    "    d = data_points[i]\n",
    "    \n",
    "    program = residualInferenceProgram(d, opt_params, latticeType, latticeConstant)\n",
    "    discretized_ahs_program = program.discretize(device)\n",
    "\n",
    "    task = device.run(discretized_ahs_program, shots=n_shots)\n",
    "\n",
    "    metadata = task.metadata()\n",
    "    task_arn = metadata[\"quantumTaskArn\"]\n",
    "    task_status = metadata[\"status\"]\n",
    "    \n",
    "    print(f\"ARN: {task_arn}\")\n",
    "    print(f\"status: {task_status}\")\n",
    "\n",
    "    task_arns.append(task_arn)\n",
    "    "
   ]
  },
  {
   "cell_type": "code",
   "execution_count": null,
   "id": "9f93937f-4d60-49b7-95fb-adc456ffd82a",
   "metadata": {},
   "outputs": [],
   "source": [
    "task_arns"
   ]
  },
  {
   "cell_type": "code",
   "execution_count": 23,
   "id": "cac03560-8ccb-479d-b9af-d53652cb1663",
   "metadata": {},
   "outputs": [
    {
     "name": "stdout",
     "output_type": "stream",
     "text": [
      "file exists, make sure you don't overwrite\n"
     ]
    }
   ],
   "source": [
    "if not os.path.isfile(f'task_arns/{classification_task}task_arns.json'):\n",
    "    with open(f'task_arns/{classification_task}task_arns.json', 'w') as f:\n",
    "        json.dump(task_arns, f)\n",
    "else:\n",
    "    print(\"file exists, make sure you don't overwrite\")"
   ]
  },
  {
   "cell_type": "code",
   "execution_count": 45,
   "id": "6a8df45a-7a4c-41c9-9440-3c805f28f8b0",
   "metadata": {},
   "outputs": [
    {
     "name": "stdout",
     "output_type": "stream",
     "text": [
      "COMPLETED\n",
      "COMPLETED\n",
      "COMPLETED\n",
      "COMPLETED\n",
      "COMPLETED\n",
      "COMPLETED\n",
      "COMPLETED\n",
      "COMPLETED\n"
     ]
    }
   ],
   "source": [
    "for a in task_arns:\n",
    "    task = AwsQuantumTask(arn=a)\n",
    "    metadata = task.metadata()\n",
    "    print(metadata[\"status\"])"
   ]
  },
  {
   "cell_type": "code",
   "execution_count": 46,
   "id": "f32e017e-752c-455b-985e-b787703ef2a1",
   "metadata": {},
   "outputs": [
    {
     "name": "stdout",
     "output_type": "stream",
     "text": [
      "0.36024999999999996\n",
      "0.39675\n",
      "0.46950000000000003\n",
      "0.5852499999999999\n",
      "0.6172500000000001\n",
      "0.46125000000000005\n",
      "0.635\n",
      "0.61375\n"
     ]
    }
   ],
   "source": [
    "for a in task_arns:\n",
    "    hardware_result = AwsQuantumTask(arn=a).result()\n",
    "    hardware_counts = hardware_result.get_counts()\n",
    "    print(tally_votes_hardware(hardware_counts, numShots=1000))"
   ]
  },
  {
   "cell_type": "code",
   "execution_count": 73,
   "id": "c2985523-2175-4f9b-9f70-c389ef410ae4",
   "metadata": {},
   "outputs": [
    {
     "name": "stdout",
     "output_type": "stream",
     "text": [
      "0.0\n",
      "0.0\n",
      "0.0\n",
      "1.0\n",
      "1.0\n",
      "1.0\n",
      "1.0\n",
      "1.0\n"
     ]
    }
   ],
   "source": [
    "for t in test_labels: print(t)"
   ]
  },
  {
   "cell_type": "code",
   "execution_count": 41,
   "id": "bc2a687f-ac96-431b-a5bd-1339f0ed2bed",
   "metadata": {},
   "outputs": [
    {
     "name": "stdout",
     "output_type": "stream",
     "text": [
      "COMPLETED\n"
     ]
    }
   ],
   "source": [
    "task = AwsQuantumTask(arn=task_arns[4])\n",
    "metadata = task.metadata()\n",
    "print(metadata[\"status\"])"
   ]
  },
  {
   "cell_type": "code",
   "execution_count": 42,
   "id": "74dd9565-4428-415a-9442-2c5532f51084",
   "metadata": {},
   "outputs": [
    {
     "name": "stdout",
     "output_type": "stream",
     "text": [
      "0.6172500000000001\n"
     ]
    }
   ],
   "source": [
    "result = task.result()\n",
    "print(tally_votes_hardware(result.get_counts(), numShots=1000))"
   ]
  },
  {
   "cell_type": "code",
   "execution_count": 47,
   "id": "31674b76-b0a0-4c86-b087-7b8bf387633d",
   "metadata": {},
   "outputs": [
    {
     "data": {
      "text/plain": [
       "{'rgrg': 29,\n",
       " 'gggr': 46,\n",
       " 'rggr': 51,\n",
       " 'grrg': 35,\n",
       " 'grgr': 37,\n",
       " 'rgrr': 161,\n",
       " 'rrrr': 85,\n",
       " 'rggg': 33,\n",
       " 'gggg': 45,\n",
       " 'rrrg': 129,\n",
       " 'rrgr': 110,\n",
       " 'rrgg': 29,\n",
       " 'grrr': 111,\n",
       " 'errg': 2,\n",
       " 'ggrg': 21,\n",
       " 'ggrr': 32,\n",
       " 'grgg': 27,\n",
       " 'rreg': 1,\n",
       " 'ggre': 1,\n",
       " 'rrer': 3,\n",
       " 'egrg': 1,\n",
       " 'eggr': 1,\n",
       " 'errr': 2,\n",
       " 'egrr': 2,\n",
       " 'rrre': 2,\n",
       " 'regr': 1,\n",
       " 'rerg': 1,\n",
       " 'grre': 1,\n",
       " 'rerr': 1}"
      ]
     },
     "execution_count": 47,
     "metadata": {},
     "output_type": "execute_result"
    }
   ],
   "source": [
    "result.get_counts()"
   ]
  }
 ],
 "metadata": {
  "kernelspec": {
   "display_name": "Python 3 (ipykernel)",
   "language": "python",
   "name": "python3"
  },
  "language_info": {
   "codemirror_mode": {
    "name": "ipython",
    "version": 3
   },
   "file_extension": ".py",
   "mimetype": "text/x-python",
   "name": "python",
   "nbconvert_exporter": "python",
   "pygments_lexer": "ipython3",
   "version": "3.12.1"
  }
 },
 "nbformat": 4,
 "nbformat_minor": 5
}
